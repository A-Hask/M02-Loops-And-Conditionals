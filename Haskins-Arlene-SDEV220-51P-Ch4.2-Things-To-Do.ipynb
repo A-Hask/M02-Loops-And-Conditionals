{
 "cells": [
  {
   "cell_type": "code",
   "execution_count": null,
   "id": "6568565c",
   "metadata": {},
   "outputs": [],
   "source": [
    "small = true\n",
    "green = true\n",
    "\n",
    "if cherry:\n",
    "    small = true\n",
    "    green = false\n",
    "elif pea:\n",
    "    small = true\n",
    "    green = true\n",
    "elif watermelon:\n",
    "    small = false\n",
    "    green = true\n",
    "else:\n",
    "    small = false\n",
    "    green = false"
   ]
  }
 ],
 "metadata": {
  "kernelspec": {
   "display_name": "Python 3 (ipykernel)",
   "language": "python",
   "name": "python3"
  },
  "language_info": {
   "codemirror_mode": {
    "name": "ipython",
    "version": 3
   },
   "file_extension": ".py",
   "mimetype": "text/x-python",
   "name": "python",
   "nbconvert_exporter": "python",
   "pygments_lexer": "ipython3",
   "version": "3.11.5"
  }
 },
 "nbformat": 4,
 "nbformat_minor": 5
}
